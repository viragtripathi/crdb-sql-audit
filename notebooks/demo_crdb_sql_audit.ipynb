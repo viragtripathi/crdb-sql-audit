{
  "cells": [
    {
      "cell_type": "markdown",
      "metadata": {},
      "source": "# \ud83e\uddea crdb-sql-audit Demo Notebook\n\nThis notebook demonstrates how to use the `crdb-sql-audit` rule engine directly with log files and custom rules."
    },
    {
      "cell_type": "code",
      "metadata": {},
      "outputs": [],
      "execution_count": null,
      "source": "# Install the tool (if not already installed in the environment)\n!pip install crdb-sql-audit"
    },
    {
      "cell_type": "code",
      "metadata": {},
      "outputs": [],
      "execution_count": null,
      "source": "# Step 1: Load the rules YAML\nimport yaml\n\nwith open(\"https://raw.githubusercontent.com/viragtripathi/crdb-sql-audit/main/tests/rules/test_rules.yaml\") as f:\n    rules = yaml.safe_load(f)\n\nprint(f\"\u2705 Loaded {len(rules)} rules\")"
    },
    {
      "cell_type": "code",
      "metadata": {},
      "outputs": [],
      "execution_count": null,
      "source": "# Step 2: Load a test log file (SQL lines)\nwith open(\"https://raw.githubusercontent.com/viragtripathi/crdb-sql-audit/main/tests/sample_logs/basic_pg_chunk.log\") as f:\n    raw_lines = [line.strip() for line in f if line.strip()]\n\nprint(f\"\u2705 Loaded {len(raw_lines)} lines\")"
    },
    {
      "cell_type": "code",
      "metadata": {},
      "outputs": [],
      "execution_count": null,
      "source": "# Step 3: Use rule engine directly\nimport re\nfrom crdb_sql_audit.rules_engine import apply_rules\n\nall_matches = []\nfor line in raw_lines:\n    matches = apply_rules(line, rules)\n    all_matches.extend(matches)\n\nprint(f\"\ud83d\udea8 Total matches: {len(all_matches)}\")"
    },
    {
      "cell_type": "code",
      "metadata": {},
      "outputs": [],
      "execution_count": null,
      "source": "# Step 4: Visualize results\nimport pandas as pd\n\nif all_matches:\n    df = pd.DataFrame(all_matches)\n    display(df[['Rule_ID', 'SQL_Type', 'Issue', 'Example']])\nelse:\n    print(\"No matches found.\")"
    }
  ],
  "metadata": {
    "kernelspec": {
      "display_name": "Python 3",
      "language": "python",
      "name": "python3"
    },
    "language_info": {
      "name": "python",
      "version": "3.x"
    }
  },
  "nbformat": 4,
  "nbformat_minor": 5
}