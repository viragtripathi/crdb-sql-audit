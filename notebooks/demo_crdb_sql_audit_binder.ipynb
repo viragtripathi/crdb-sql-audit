{
  "cells": [
    {
      "cell_type": "markdown",
      "metadata": {},
      "source": "# \ud83e\uddea crdb-sql-audit Demo Notebook (Binder Friendly)\n\nThis notebook demonstrates how to use `crdb-sql-audit` interactively using remote resources."
    },
    {
      "cell_type": "code",
      "metadata": {},
      "execution_count": null,
      "outputs": [],
      "source": "# Install crdb-sql-audit (if not already installed)\n!pip install crdb-sql-audit"
    },
    {
      "cell_type": "code",
      "metadata": {},
      "execution_count": null,
      "outputs": [],
      "source": "# Step 1: Load rules from GitHub\nimport yaml\nimport requests\n\nurl = \"https://raw.githubusercontent.com/viragtripathi/crdb-sql-audit/main/tests/rules/test_rules.yaml\"\nyaml_text = requests.get(url).text\nrules = yaml.safe_load(yaml_text)\n\nprint(f\"\u2705 Loaded {len(rules)} rules\")"
    },
    {
      "cell_type": "code",
      "metadata": {},
      "execution_count": null,
      "outputs": [],
      "source": "# Step 2: Load SQL log lines from GitHub\nsql_url = \"https://raw.githubusercontent.com/viragtripathi/crdb-sql-audit/main/tests/sample_logs/basic_pg_chunk.log\"\nlog_text = requests.get(sql_url).text\nraw_lines = [line.strip() for line in log_text.splitlines() if line.strip()]\n\nprint(f\"\u2705 Loaded {len(raw_lines)} SQL lines\")"
    },
    {
      "cell_type": "code",
      "metadata": {},
      "execution_count": null,
      "outputs": [],
      "source": "# Step 3: Apply rules\nfrom crdb_sql_audit.rules_engine import apply_rules\n\nall_matches = []\nfor line in raw_lines:\n    matches = apply_rules(line, rules)\n    all_matches.extend(matches)\n\nprint(f\"\ud83d\udea8 Total matches: {len(all_matches)}\")"
    },
    {
      "cell_type": "code",
      "metadata": {},
      "execution_count": null,
      "outputs": [],
      "source": "# Step 4: Display matches\nimport pandas as pd\n\nif all_matches:\n    df = pd.DataFrame(all_matches)\n    df[['Rule_ID', 'SQL_Type', 'Issue', 'Example']].head(10)\nelse:\n    print(\"No matches found.\")"
    }
  ],
  "metadata": {
    "kernelspec": {
      "display_name": "Python 3",
      "language": "python",
      "name": "python3"
    },
    "language_info": {
      "name": "python",
      "version": "3.x"
    }
  },
  "nbformat": 4,
  "nbformat_minor": 5
}